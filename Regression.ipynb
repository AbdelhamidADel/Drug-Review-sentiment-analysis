{
 "cells": [
  {
   "cell_type": "markdown",
   "id": "1cff83f6",
   "metadata": {},
   "source": [
    "# Regression_Model\n",
    "### Aim : predict the rating of the reviews"
   ]
  },
  {
   "cell_type": "code",
   "execution_count": 19,
   "id": "305fe7a7",
   "metadata": {},
   "outputs": [],
   "source": [
    "import numpy as np\n",
    "import re,string\n",
    "import pandas as pd\n",
    "import matplotlib.pyplot as plt\n",
    "from sklearn.feature_extraction.text import CountVectorizer,TfidfVectorizer\n",
    "from sklearn .model_selection import train_test_split\n",
    "from sklearn.linear_model import SGDRegressor\n",
    "from sklearn.metrics import r2_score\n",
    "import pickle"
   ]
  },
  {
   "cell_type": "code",
   "execution_count": 20,
   "id": "67f417c5",
   "metadata": {},
   "outputs": [],
   "source": [
    "data_model = pd.read_csv(\"Data/Model_Data.csv\")"
   ]
  },
  {
   "cell_type": "code",
   "execution_count": 21,
   "id": "bd0779d7",
   "metadata": {},
   "outputs": [
    {
     "data": {
      "text/plain": [
       "drugName              0\n",
       "rating                0\n",
       "usefulCount           0\n",
       "Re_Cleaned_review    33\n",
       "review_Year           0\n",
       "cleaned_condition     0\n",
       "dtype: int64"
      ]
     },
     "execution_count": 21,
     "metadata": {},
     "output_type": "execute_result"
    }
   ],
   "source": [
    "data_model.isnull().sum()"
   ]
  },
  {
   "cell_type": "code",
   "execution_count": 22,
   "id": "70948f43",
   "metadata": {},
   "outputs": [],
   "source": [
    "data_model=data_model.dropna()"
   ]
  },
  {
   "cell_type": "code",
   "execution_count": 23,
   "id": "2a9256bb",
   "metadata": {},
   "outputs": [],
   "source": [
    "re_rate={10: 5,\n",
    "         9: 4.5,\n",
    "         8: 4,\n",
    "         7: 3.5,\n",
    "         6: 3,\n",
    "         5: 2.5,\n",
    "         4: 2,\n",
    "         3: 1.5,\n",
    "         2: 1,\n",
    "         1: 0.5}"
   ]
  },
  {
   "cell_type": "code",
   "execution_count": 24,
   "id": "c5a190e9",
   "metadata": {},
   "outputs": [],
   "source": [
    "data_model[\"New_rate\"]=data_model[\"rating\"].map(re_rate)"
   ]
  },
  {
   "cell_type": "code",
   "execution_count": 25,
   "id": "06360154",
   "metadata": {},
   "outputs": [
    {
     "data": {
      "text/html": [
       "<div>\n",
       "<style scoped>\n",
       "    .dataframe tbody tr th:only-of-type {\n",
       "        vertical-align: middle;\n",
       "    }\n",
       "\n",
       "    .dataframe tbody tr th {\n",
       "        vertical-align: top;\n",
       "    }\n",
       "\n",
       "    .dataframe thead th {\n",
       "        text-align: right;\n",
       "    }\n",
       "</style>\n",
       "<table border=\"1\" class=\"dataframe\">\n",
       "  <thead>\n",
       "    <tr style=\"text-align: right;\">\n",
       "      <th></th>\n",
       "      <th>Re_Cleaned_review</th>\n",
       "      <th>New_rate</th>\n",
       "    </tr>\n",
       "  </thead>\n",
       "  <tbody>\n",
       "    <tr>\n",
       "      <th>0</th>\n",
       "      <td>effect combination bystolic mg fish oil</td>\n",
       "      <td>4.5</td>\n",
       "    </tr>\n",
       "    <tr>\n",
       "      <th>1</th>\n",
       "      <td>son halfway fourth week intuniv concerned bega...</td>\n",
       "      <td>4.0</td>\n",
       "    </tr>\n",
       "    <tr>\n",
       "      <th>2</th>\n",
       "      <td>oral contraceptive pill cycle happy light peri...</td>\n",
       "      <td>2.5</td>\n",
       "    </tr>\n",
       "    <tr>\n",
       "      <th>3</th>\n",
       "      <td>time form birth control glad went patch months...</td>\n",
       "      <td>4.0</td>\n",
       "    </tr>\n",
       "    <tr>\n",
       "      <th>4</th>\n",
       "      <td>suboxone completely turned life feel healthier...</td>\n",
       "      <td>4.5</td>\n",
       "    </tr>\n",
       "    <tr>\n",
       "      <th>...</th>\n",
       "      <td>...</td>\n",
       "      <td>...</td>\n",
       "    </tr>\n",
       "    <tr>\n",
       "      <th>213846</th>\n",
       "      <td>good insomnia time</td>\n",
       "      <td>3.5</td>\n",
       "    </tr>\n",
       "    <tr>\n",
       "      <th>213847</th>\n",
       "      <td>month pack jolessa bleeding weeks spotting tim...</td>\n",
       "      <td>2.5</td>\n",
       "    </tr>\n",
       "    <tr>\n",
       "      <th>213848</th>\n",
       "      <td>taking birth control years love problems works...</td>\n",
       "      <td>5.0</td>\n",
       "    </tr>\n",
       "    <tr>\n",
       "      <th>213849</th>\n",
       "      <td>shot years love worry period experienced chang...</td>\n",
       "      <td>5.0</td>\n",
       "    </tr>\n",
       "    <tr>\n",
       "      <th>213850</th>\n",
       "      <td>years old pain knee years probably tearing pat...</td>\n",
       "      <td>4.5</td>\n",
       "    </tr>\n",
       "  </tbody>\n",
       "</table>\n",
       "<p>213818 rows × 2 columns</p>\n",
       "</div>"
      ],
      "text/plain": [
       "                                        Re_Cleaned_review  New_rate\n",
       "0                 effect combination bystolic mg fish oil       4.5\n",
       "1       son halfway fourth week intuniv concerned bega...       4.0\n",
       "2       oral contraceptive pill cycle happy light peri...       2.5\n",
       "3       time form birth control glad went patch months...       4.0\n",
       "4       suboxone completely turned life feel healthier...       4.5\n",
       "...                                                   ...       ...\n",
       "213846                                 good insomnia time       3.5\n",
       "213847  month pack jolessa bleeding weeks spotting tim...       2.5\n",
       "213848  taking birth control years love problems works...       5.0\n",
       "213849  shot years love worry period experienced chang...       5.0\n",
       "213850  years old pain knee years probably tearing pat...       4.5\n",
       "\n",
       "[213818 rows x 2 columns]"
      ]
     },
     "execution_count": 25,
     "metadata": {},
     "output_type": "execute_result"
    }
   ],
   "source": [
    "needed_data=data_model[['Re_Cleaned_review','New_rate']]\n",
    "needed_data"
   ]
  },
  {
   "cell_type": "code",
   "execution_count": 26,
   "id": "37e7315c",
   "metadata": {},
   "outputs": [],
   "source": [
    "x=needed_data['Re_Cleaned_review']\n",
    "y=needed_data['New_rate']\n",
    "x_train,x_test,y_train,y_test=train_test_split(x,y,random_state=0,test_size=0.3)"
   ]
  },
  {
   "cell_type": "code",
   "execution_count": 31,
   "id": "96dacf28",
   "metadata": {},
   "outputs": [],
   "source": [
    "cv=CountVectorizer(ngram_range=(1,2))\n",
    "vect=cv.fit(x_train)\n",
    "x_train_vector=vect.transform(x_train)\n",
    "x_test_vector=vect.transform(x_test)"
   ]
  },
  {
   "cell_type": "code",
   "execution_count": 32,
   "id": "b4c43a0a",
   "metadata": {},
   "outputs": [
    {
     "data": {
      "text/html": [
       "<style>#sk-container-id-3 {color: black;background-color: white;}#sk-container-id-3 pre{padding: 0;}#sk-container-id-3 div.sk-toggleable {background-color: white;}#sk-container-id-3 label.sk-toggleable__label {cursor: pointer;display: block;width: 100%;margin-bottom: 0;padding: 0.3em;box-sizing: border-box;text-align: center;}#sk-container-id-3 label.sk-toggleable__label-arrow:before {content: \"▸\";float: left;margin-right: 0.25em;color: #696969;}#sk-container-id-3 label.sk-toggleable__label-arrow:hover:before {color: black;}#sk-container-id-3 div.sk-estimator:hover label.sk-toggleable__label-arrow:before {color: black;}#sk-container-id-3 div.sk-toggleable__content {max-height: 0;max-width: 0;overflow: hidden;text-align: left;background-color: #f0f8ff;}#sk-container-id-3 div.sk-toggleable__content pre {margin: 0.2em;color: black;border-radius: 0.25em;background-color: #f0f8ff;}#sk-container-id-3 input.sk-toggleable__control:checked~div.sk-toggleable__content {max-height: 200px;max-width: 100%;overflow: auto;}#sk-container-id-3 input.sk-toggleable__control:checked~label.sk-toggleable__label-arrow:before {content: \"▾\";}#sk-container-id-3 div.sk-estimator input.sk-toggleable__control:checked~label.sk-toggleable__label {background-color: #d4ebff;}#sk-container-id-3 div.sk-label input.sk-toggleable__control:checked~label.sk-toggleable__label {background-color: #d4ebff;}#sk-container-id-3 input.sk-hidden--visually {border: 0;clip: rect(1px 1px 1px 1px);clip: rect(1px, 1px, 1px, 1px);height: 1px;margin: -1px;overflow: hidden;padding: 0;position: absolute;width: 1px;}#sk-container-id-3 div.sk-estimator {font-family: monospace;background-color: #f0f8ff;border: 1px dotted black;border-radius: 0.25em;box-sizing: border-box;margin-bottom: 0.5em;}#sk-container-id-3 div.sk-estimator:hover {background-color: #d4ebff;}#sk-container-id-3 div.sk-parallel-item::after {content: \"\";width: 100%;border-bottom: 1px solid gray;flex-grow: 1;}#sk-container-id-3 div.sk-label:hover label.sk-toggleable__label {background-color: #d4ebff;}#sk-container-id-3 div.sk-serial::before {content: \"\";position: absolute;border-left: 1px solid gray;box-sizing: border-box;top: 0;bottom: 0;left: 50%;z-index: 0;}#sk-container-id-3 div.sk-serial {display: flex;flex-direction: column;align-items: center;background-color: white;padding-right: 0.2em;padding-left: 0.2em;position: relative;}#sk-container-id-3 div.sk-item {position: relative;z-index: 1;}#sk-container-id-3 div.sk-parallel {display: flex;align-items: stretch;justify-content: center;background-color: white;position: relative;}#sk-container-id-3 div.sk-item::before, #sk-container-id-3 div.sk-parallel-item::before {content: \"\";position: absolute;border-left: 1px solid gray;box-sizing: border-box;top: 0;bottom: 0;left: 50%;z-index: -1;}#sk-container-id-3 div.sk-parallel-item {display: flex;flex-direction: column;z-index: 1;position: relative;background-color: white;}#sk-container-id-3 div.sk-parallel-item:first-child::after {align-self: flex-end;width: 50%;}#sk-container-id-3 div.sk-parallel-item:last-child::after {align-self: flex-start;width: 50%;}#sk-container-id-3 div.sk-parallel-item:only-child::after {width: 0;}#sk-container-id-3 div.sk-dashed-wrapped {border: 1px dashed gray;margin: 0 0.4em 0.5em 0.4em;box-sizing: border-box;padding-bottom: 0.4em;background-color: white;}#sk-container-id-3 div.sk-label label {font-family: monospace;font-weight: bold;display: inline-block;line-height: 1.2em;}#sk-container-id-3 div.sk-label-container {text-align: center;}#sk-container-id-3 div.sk-container {/* jupyter's `normalize.less` sets `[hidden] { display: none; }` but bootstrap.min.css set `[hidden] { display: none !important; }` so we also need the `!important` here to be able to override the default hidden behavior on the sphinx rendered scikit-learn.org. See: https://github.com/scikit-learn/scikit-learn/issues/21755 */display: inline-block !important;position: relative;}#sk-container-id-3 div.sk-text-repr-fallback {display: none;}</style><div id=\"sk-container-id-3\" class=\"sk-top-container\"><div class=\"sk-text-repr-fallback\"><pre>SGDRegressor()</pre><b>In a Jupyter environment, please rerun this cell to show the HTML representation or trust the notebook. <br />On GitHub, the HTML representation is unable to render, please try loading this page with nbviewer.org.</b></div><div class=\"sk-container\" hidden><div class=\"sk-item\"><div class=\"sk-estimator sk-toggleable\"><input class=\"sk-toggleable__control sk-hidden--visually\" id=\"sk-estimator-id-3\" type=\"checkbox\" checked><label for=\"sk-estimator-id-3\" class=\"sk-toggleable__label sk-toggleable__label-arrow\">SGDRegressor</label><div class=\"sk-toggleable__content\"><pre>SGDRegressor()</pre></div></div></div></div></div>"
      ],
      "text/plain": [
       "SGDRegressor()"
      ]
     },
     "execution_count": 32,
     "metadata": {},
     "output_type": "execute_result"
    }
   ],
   "source": [
    "SGD=SGDRegressor(alpha=0.0001)\n",
    "SGD.fit(x_train_vector, y_train)"
   ]
  },
  {
   "cell_type": "code",
   "execution_count": 33,
   "id": "8187fa45",
   "metadata": {},
   "outputs": [
    {
     "data": {
      "text/plain": [
       "0.6004977007824284"
      ]
     },
     "execution_count": 33,
     "metadata": {},
     "output_type": "execute_result"
    }
   ],
   "source": [
    "train_pred = SGD.predict(x_train_vector)\n",
    "test_pred = SGD.predict(x_test_vector)\n",
    "r2_score(y_test, test_pred)"
   ]
  },
  {
   "cell_type": "code",
   "execution_count": 34,
   "id": "a1eb9820",
   "metadata": {},
   "outputs": [
    {
     "data": {
      "text/plain": [
       "0.8053382207935381"
      ]
     },
     "execution_count": 34,
     "metadata": {},
     "output_type": "execute_result"
    }
   ],
   "source": [
    "r2_score(y_train, train_pred)"
   ]
  },
  {
   "cell_type": "markdown",
   "id": "3b21ef2d",
   "metadata": {},
   "source": [
    " - after many trials by using algorithms in colab(coz my lab suffered lol) ,, i findout that SGD is the perfect one than others \n",
    " - Not Perfect model, but i tried to reduce bias by adjusting rate , surly model will be perfect if i use DL ,it is powerful when data get bigger"
   ]
  },
  {
   "cell_type": "markdown",
   "id": "fba09fca",
   "metadata": {},
   "source": [
    "# Pickle Time"
   ]
  },
  {
   "cell_type": "code",
   "execution_count": 39,
   "id": "5697853d",
   "metadata": {},
   "outputs": [],
   "source": [
    "filename = 'Reg_Model.pkl'\n",
    "pickle.dump(SGD, open(filename, 'wb'))"
   ]
  },
  {
   "cell_type": "code",
   "execution_count": 40,
   "id": "fc5c597b",
   "metadata": {},
   "outputs": [],
   "source": [
    "filename = 'Reg_vectorize.pkl'\n",
    "pickle.dump(vect, open(filename, 'wb'))"
   ]
  },
  {
   "cell_type": "markdown",
   "id": "1f42b338",
   "metadata": {},
   "source": [
    "# Testing "
   ]
  },
  {
   "cell_type": "code",
   "execution_count": 35,
   "id": "cb132d3f",
   "metadata": {},
   "outputs": [],
   "source": [
    "def text_cleaning(text):\n",
    "    \n",
    "    #Converting text into lowercase\n",
    "    text = str(text).lower()\n",
    "    \n",
    "    #Removing square brackets from the text\n",
    "    text = re.sub('\\[.*?\\]','',text)\n",
    "    \n",
    "    \n",
    "    #Removing links starting with (https or www)\n",
    "    text = re.sub('https?://\\S+|www\\.\\S+', '', text)\n",
    "    \n",
    "    #Removing <\"text\"> type of text \n",
    "    text = re.sub('<.*?>+','',text)\n",
    "    \n",
    "    #Removing punctuations\n",
    "    text = re.sub(\"[%s]\" % re.escape(string.punctuation),'',text)\n",
    "    \n",
    "    #Removing new lines\n",
    "    text = re.sub(\"\\n\",'',text)\n",
    "    \n",
    "    #Removing alphanumeric numbers \n",
    "    text = re.sub('\\w*\\d\\w*','',text)\n",
    "    \n",
    "    return(text)\n"
   ]
  },
  {
   "cell_type": "code",
   "execution_count": 36,
   "id": "5e924c23",
   "metadata": {},
   "outputs": [],
   "source": [
    "review='It is perfect, I take it in combination of Bystolic 5 Mg and Fish Oil'"
   ]
  },
  {
   "cell_type": "code",
   "execution_count": 37,
   "id": "105180ce",
   "metadata": {},
   "outputs": [],
   "source": [
    "def model(text):\n",
    "    clean_done=[]\n",
    "    entry=[text]\n",
    "    clean=text_cleaning(entry[0])\n",
    "    clean_done.append(clean)\n",
    "    sample=cv.transform(clean_done)\n",
    "    sgd=SGDRegressor(alpha=0.0001)\n",
    "    model=sgd.fit(x_train_vector,y_train)\n",
    "    return model.predict(sample)"
   ]
  },
  {
   "cell_type": "code",
   "execution_count": 38,
   "id": "befdfd39",
   "metadata": {},
   "outputs": [
    {
     "data": {
      "text/plain": [
       "3.4"
      ]
     },
     "execution_count": 38,
     "metadata": {},
     "output_type": "execute_result"
    }
   ],
   "source": [
    "review_rate=round(model(review)[0],1)\n",
    "review_rate"
   ]
  },
  {
   "cell_type": "code",
   "execution_count": null,
   "id": "af877f54",
   "metadata": {},
   "outputs": [],
   "source": []
  }
 ],
 "metadata": {
  "kernelspec": {
   "display_name": "myenv",
   "language": "python",
   "name": "myenv"
  },
  "language_info": {
   "codemirror_mode": {
    "name": "ipython",
    "version": 3
   },
   "file_extension": ".py",
   "mimetype": "text/x-python",
   "name": "python",
   "nbconvert_exporter": "python",
   "pygments_lexer": "ipython3",
   "version": "3.10.4"
  }
 },
 "nbformat": 4,
 "nbformat_minor": 5
}
